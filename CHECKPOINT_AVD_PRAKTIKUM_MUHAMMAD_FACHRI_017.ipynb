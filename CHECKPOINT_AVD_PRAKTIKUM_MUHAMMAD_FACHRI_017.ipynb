{
  "nbformat": 4,
  "nbformat_minor": 0,
  "metadata": {
    "colab": {
      "provenance": []
    },
    "kernelspec": {
      "name": "python3",
      "display_name": "Python 3"
    },
    "language_info": {
      "name": "python"
    }
  },
  "cells": [
    {
      "cell_type": "markdown",
      "source": [
        "## BUSINESS UNDERSTANDING"
      ],
      "metadata": {
        "id": "snj-sIJtbyzB"
      }
    },
    {
      "cell_type": "markdown",
      "source": [
        "# Studi Kasus"
      ],
      "metadata": {
        "id": "AOMsexZpusmt"
      }
    },
    {
      "cell_type": "markdown",
      "source": [
        "Industri ponsel pintar terus berkembang dengan berbagai merek dan model yang menawarkan spesifikasi beragam. Harga ponsel saat peluncuran berbeda-beda tergantung pada spesifikasi, merek, dan lokasi penjualannya. analisis ini dapat memberikan rekomendasi berdasarkan preferensi pengguna dan membantu perusahaan  memahami bagaimana spesifikasi tertentu memengaruhi harga dan bagaimana tren harga ponsel berubah dari waktu ke waktu di berbagai wilayah."
      ],
      "metadata": {
        "id": "buiWvTpju8xO"
      }
    },
    {
      "cell_type": "markdown",
      "source": [
        "# Business Objective"
      ],
      "metadata": {
        "id": "tjMXh6k_b4Ks"
      }
    },
    {
      "cell_type": "markdown",
      "source": [
        "Tujuan dari analisis ini adalah untuk memahami hubungan antara spesifikasi ponsel dan harga guna membantu pengguna dalam memilih ponsel yang paling sesuai dengan kebutuhan dan anggaran mereka. Dengan mengidentifikasi fitur-fitur yang paling mempengaruhi harga, seperti kapasitas RAM, kualitas kamera, daya tahan baterai, dan jenis prosesor, pengguna dapat membuat keputusan yang lebih terinformasi. Selain itu, analisis ini dapat memberikan rekomendasi berdasarkan preferensi pengguna, baik dalam hal performa, harga terbaik di negara tertentu, atau keseimbangan antara spesifikasi dan nilai jual, serta membantu produsen dalam merancang produk yang lebih kompetitif..\n"
      ],
      "metadata": {
        "id": "8bWErLsYcdB4"
      }
    },
    {
      "cell_type": "markdown",
      "source": [
        "# Assess Situation"
      ],
      "metadata": {
        "id": "2iPmIJpNiy-H"
      }
    },
    {
      "cell_type": "markdown",
      "source": [
        "Dataset ini berisi informasi mendetail tentang spesifikasi perangkat keras ponsel dan harga peluncurannya di berbagai negara. Salah satu tantangan utama dalam analisis ini adalah memastikan bahwa harga yang dibandingkan tetap relevan dengan periode peluncurannya, karena model lama mencerminkan harga asli saat dirilis, sementara model baru memiliki harga peluncuran terbaru. Selain itu, perbedaan harga antar negara bisa dipengaruhi oleh faktor ekonomi, kebijakan pajak, atau strategi penetapan harga masing-masing perusahaan. Oleh karena itu, data perlu dibersihkan dan dinormalisasi agar dapat digunakan untuk analisis tren harga dan daya saing secara akurat."
      ],
      "metadata": {
        "id": "_k5whkcii2iv"
      }
    },
    {
      "cell_type": "markdown",
      "source": [
        "# Data Mining Goals"
      ],
      "metadata": {
        "id": "tIO4kuGMi71U"
      }
    },
    {
      "cell_type": "markdown",
      "source": [
        "mengidentifikasi pola harga berdasarkan spesifikasi ponsel, sehingga pengguna dapat memahami fitur apa yang paling mempengaruhi harga di berbagai kategori ponsel. Selain itu, analisis ini bertujuan untuk membuat segmentasi berdasarkan kebutuhan pengguna, seperti ponsel dengan performa tinggi untuk gaming, ponsel dengan kamera terbaik untuk fotografi, atau ponsel dengan harga paling ekonomis dalam kategori tertentu. Dengan model prediksi yang tepat, pengguna juga dapat memperoleh rekomendasi ponsel yang sesuai dengan anggaran dan preferensinya, membantu mereka membuat keputusan pembelian yang lebih optimal. Selain itu, analisis ini juga dapat menilai daya saing merek berdasarkan strategi harga dan spesifikasi yang ditawarkan dan dapat mendukung pengambilan keputusan bisnis terkait strategi penetapan harga, pemasaran, dan pengembangan produk yang lebih sesuai dengan kebutuhan pasar.\n"
      ],
      "metadata": {
        "id": "jKdyHsjMjDL9"
      }
    },
    {
      "cell_type": "markdown",
      "source": [
        "# Project Plan"
      ],
      "metadata": {
        "id": "L9n5ITXmjVmr"
      }
    },
    {
      "cell_type": "markdown",
      "source": [
        "1. Data Preparation\n",
        "\n",
        "*   Membersihkan dan menstandarkan data, termasuk menghapus simbol mata uang dari\n",
        "harga dan mengonversinya ke format numerik.\n",
        "\n",
        "*   Mengatasi kemungkinan inkonsistensi data, seperti perbedaan satuan atau format penulisan spesifikasi.\n",
        "\n",
        "2. Exploratory Data Analysis (EDA)\n",
        "\n",
        "* Menganalisis distribusi harga dan spesifikasi ponsel untuk memahami variasi yang ada.\n",
        "\n",
        "* Melakukan segmentasi pasar berdasarkan fitur dan harga untuk mengelompokkan ponsel dalam kategori tertentu, seperti flagship, mid-range, dan entry-level.\n",
        "\n",
        "3. Modeling & Data Mining\n",
        "\n",
        "* Menggunakan teknik clustering untuk mengelompokkan ponsel dengan spesifikasi dan harga serupa agar pengguna dapat dengan mudah menemukan kategori yang sesuai.\n",
        "\n",
        "* Menerapkan sistem rekomendasi berbasis preferensi pengguna untuk memberikan saran ponsel terbaik berdasarkan anggaran dan fitur yang diinginkan.\n",
        "\n",
        "4. Evaluation & Optimization\n",
        "\n",
        "* Mengevaluasi model prediksi harga dan sistem rekomendasi untuk memastikan keakuratannya dalam memberikan rekomendasi yang sesuai dengan kebutuhan pengguna.\n",
        "\n",
        "5. Deployment & Visualization\n",
        "\n",
        "* Menyajikan hasil yang memudahkan pengguna untuk mencari ponsel yang sesuai dengan kebutuhan mereka.\n",
        "\n"
      ],
      "metadata": {
        "id": "Fq0ttxEBjZP2"
      }
    }
  ]
}